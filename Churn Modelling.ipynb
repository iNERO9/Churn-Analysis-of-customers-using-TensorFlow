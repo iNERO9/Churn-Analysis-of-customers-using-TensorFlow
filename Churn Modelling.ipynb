{
 "cells": [
  {
   "cell_type": "code",
   "execution_count": 29,
   "metadata": {},
   "outputs": [],
   "source": [
    "import tensorflow as tf\n",
    "import numpy as np\n",
    "import pandas as pd\n",
    "import matplotlib.pyplot as plt"
   ]
  },
  {
   "cell_type": "code",
   "execution_count": 30,
   "metadata": {},
   "outputs": [],
   "source": [
    "dataset = pd.read_csv('Churn_Modelling.csv')"
   ]
  },
  {
   "cell_type": "code",
   "execution_count": 31,
   "metadata": {},
   "outputs": [
    {
     "data": {
      "text/html": [
       "<div>\n",
       "<style scoped>\n",
       "    .dataframe tbody tr th:only-of-type {\n",
       "        vertical-align: middle;\n",
       "    }\n",
       "\n",
       "    .dataframe tbody tr th {\n",
       "        vertical-align: top;\n",
       "    }\n",
       "\n",
       "    .dataframe thead th {\n",
       "        text-align: right;\n",
       "    }\n",
       "</style>\n",
       "<table border=\"1\" class=\"dataframe\">\n",
       "  <thead>\n",
       "    <tr style=\"text-align: right;\">\n",
       "      <th></th>\n",
       "      <th>RowNumber</th>\n",
       "      <th>CustomerId</th>\n",
       "      <th>Surname</th>\n",
       "      <th>CreditScore</th>\n",
       "      <th>Geography</th>\n",
       "      <th>Gender</th>\n",
       "      <th>Age</th>\n",
       "      <th>Tenure</th>\n",
       "      <th>Balance</th>\n",
       "      <th>NumOfProducts</th>\n",
       "      <th>HasCrCard</th>\n",
       "      <th>IsActiveMember</th>\n",
       "      <th>EstimatedSalary</th>\n",
       "      <th>Exited</th>\n",
       "    </tr>\n",
       "  </thead>\n",
       "  <tbody>\n",
       "    <tr>\n",
       "      <th>0</th>\n",
       "      <td>1</td>\n",
       "      <td>15634602</td>\n",
       "      <td>Hargrave</td>\n",
       "      <td>619</td>\n",
       "      <td>France</td>\n",
       "      <td>Female</td>\n",
       "      <td>42</td>\n",
       "      <td>2</td>\n",
       "      <td>0.00</td>\n",
       "      <td>1</td>\n",
       "      <td>1</td>\n",
       "      <td>1</td>\n",
       "      <td>101348.88</td>\n",
       "      <td>1</td>\n",
       "    </tr>\n",
       "    <tr>\n",
       "      <th>1</th>\n",
       "      <td>2</td>\n",
       "      <td>15647311</td>\n",
       "      <td>Hill</td>\n",
       "      <td>608</td>\n",
       "      <td>Spain</td>\n",
       "      <td>Female</td>\n",
       "      <td>41</td>\n",
       "      <td>1</td>\n",
       "      <td>83807.86</td>\n",
       "      <td>1</td>\n",
       "      <td>0</td>\n",
       "      <td>1</td>\n",
       "      <td>112542.58</td>\n",
       "      <td>0</td>\n",
       "    </tr>\n",
       "    <tr>\n",
       "      <th>2</th>\n",
       "      <td>3</td>\n",
       "      <td>15619304</td>\n",
       "      <td>Onio</td>\n",
       "      <td>502</td>\n",
       "      <td>France</td>\n",
       "      <td>Female</td>\n",
       "      <td>42</td>\n",
       "      <td>8</td>\n",
       "      <td>159660.80</td>\n",
       "      <td>3</td>\n",
       "      <td>1</td>\n",
       "      <td>0</td>\n",
       "      <td>113931.57</td>\n",
       "      <td>1</td>\n",
       "    </tr>\n",
       "    <tr>\n",
       "      <th>3</th>\n",
       "      <td>4</td>\n",
       "      <td>15701354</td>\n",
       "      <td>Boni</td>\n",
       "      <td>699</td>\n",
       "      <td>France</td>\n",
       "      <td>Female</td>\n",
       "      <td>39</td>\n",
       "      <td>1</td>\n",
       "      <td>0.00</td>\n",
       "      <td>2</td>\n",
       "      <td>0</td>\n",
       "      <td>0</td>\n",
       "      <td>93826.63</td>\n",
       "      <td>0</td>\n",
       "    </tr>\n",
       "    <tr>\n",
       "      <th>4</th>\n",
       "      <td>5</td>\n",
       "      <td>15737888</td>\n",
       "      <td>Mitchell</td>\n",
       "      <td>850</td>\n",
       "      <td>Spain</td>\n",
       "      <td>Female</td>\n",
       "      <td>43</td>\n",
       "      <td>2</td>\n",
       "      <td>125510.82</td>\n",
       "      <td>1</td>\n",
       "      <td>1</td>\n",
       "      <td>1</td>\n",
       "      <td>79084.10</td>\n",
       "      <td>0</td>\n",
       "    </tr>\n",
       "  </tbody>\n",
       "</table>\n",
       "</div>"
      ],
      "text/plain": [
       "   RowNumber  CustomerId   Surname  CreditScore Geography  Gender  Age  \\\n",
       "0          1    15634602  Hargrave          619    France  Female   42   \n",
       "1          2    15647311      Hill          608     Spain  Female   41   \n",
       "2          3    15619304      Onio          502    France  Female   42   \n",
       "3          4    15701354      Boni          699    France  Female   39   \n",
       "4          5    15737888  Mitchell          850     Spain  Female   43   \n",
       "\n",
       "   Tenure    Balance  NumOfProducts  HasCrCard  IsActiveMember  \\\n",
       "0       2       0.00              1          1               1   \n",
       "1       1   83807.86              1          0               1   \n",
       "2       8  159660.80              3          1               0   \n",
       "3       1       0.00              2          0               0   \n",
       "4       2  125510.82              1          1               1   \n",
       "\n",
       "   EstimatedSalary  Exited  \n",
       "0        101348.88       1  \n",
       "1        112542.58       0  \n",
       "2        113931.57       1  \n",
       "3         93826.63       0  \n",
       "4         79084.10       0  "
      ]
     },
     "execution_count": 31,
     "metadata": {},
     "output_type": "execute_result"
    }
   ],
   "source": [
    "dataset.head()"
   ]
  },
  {
   "cell_type": "code",
   "execution_count": null,
   "metadata": {},
   "outputs": [],
   "source": []
  },
  {
   "cell_type": "code",
   "execution_count": null,
   "metadata": {},
   "outputs": [],
   "source": []
  },
  {
   "cell_type": "code",
   "execution_count": null,
   "metadata": {},
   "outputs": [],
   "source": []
  },
  {
   "cell_type": "code",
   "execution_count": null,
   "metadata": {},
   "outputs": [],
   "source": []
  },
  {
   "cell_type": "code",
   "execution_count": null,
   "metadata": {},
   "outputs": [],
   "source": []
  },
  {
   "cell_type": "code",
   "execution_count": null,
   "metadata": {},
   "outputs": [],
   "source": []
  },
  {
   "cell_type": "code",
   "execution_count": null,
   "metadata": {},
   "outputs": [],
   "source": []
  },
  {
   "cell_type": "code",
   "execution_count": null,
   "metadata": {},
   "outputs": [],
   "source": []
  },
  {
   "cell_type": "code",
   "execution_count": null,
   "metadata": {},
   "outputs": [],
   "source": []
  },
  {
   "cell_type": "code",
   "execution_count": null,
   "metadata": {},
   "outputs": [],
   "source": []
  },
  {
   "cell_type": "code",
   "execution_count": null,
   "metadata": {},
   "outputs": [],
   "source": []
  },
  {
   "cell_type": "code",
   "execution_count": null,
   "metadata": {},
   "outputs": [],
   "source": []
  },
  {
   "cell_type": "code",
   "execution_count": null,
   "metadata": {},
   "outputs": [],
   "source": []
  },
  {
   "cell_type": "code",
   "execution_count": 32,
   "metadata": {},
   "outputs": [],
   "source": [
    "X = dataset.iloc[:,3:-1].values"
   ]
  },
  {
   "cell_type": "code",
   "execution_count": 33,
   "metadata": {},
   "outputs": [],
   "source": [
    "y = dataset.iloc[:,-1].values"
   ]
  },
  {
   "cell_type": "code",
   "execution_count": 34,
   "metadata": {},
   "outputs": [],
   "source": [
    "# Label Encoded\n",
    "from sklearn.preprocessing import LabelEncoder\n",
    "LE = LabelEncoder()\n",
    "X[:,2] = LE.fit_transform(X[:,2])"
   ]
  },
  {
   "cell_type": "code",
   "execution_count": 35,
   "metadata": {},
   "outputs": [
    {
     "name": "stdout",
     "output_type": "stream",
     "text": [
      "[[619 'France' 0 ... 1 1 101348.88]\n",
      " [608 'Spain' 0 ... 0 1 112542.58]\n",
      " [502 'France' 0 ... 1 0 113931.57]\n",
      " ...\n",
      " [709 'France' 0 ... 0 1 42085.58]\n",
      " [772 'Germany' 1 ... 1 0 92888.52]\n",
      " [792 'France' 0 ... 1 0 38190.78]]\n"
     ]
    }
   ],
   "source": [
    "print(X)"
   ]
  },
  {
   "cell_type": "code",
   "execution_count": 36,
   "metadata": {},
   "outputs": [],
   "source": [
    "# One hot encoding of Geographic column\n",
    "from sklearn.preprocessing import OneHotEncoder\n",
    "from sklearn.compose import ColumnTransformer\n",
    "ct = ColumnTransformer(transformers= [('encoder', OneHotEncoder(), [1])],remainder='passthrough')\n",
    "X = np.array(ct.fit_transform(X))"
   ]
  },
  {
   "cell_type": "code",
   "execution_count": 37,
   "metadata": {},
   "outputs": [
    {
     "name": "stdout",
     "output_type": "stream",
     "text": [
      "[[1.0 0.0 0.0 ... 1 1 101348.88]\n",
      " [0.0 0.0 1.0 ... 0 1 112542.58]\n",
      " [1.0 0.0 0.0 ... 1 0 113931.57]\n",
      " ...\n",
      " [1.0 0.0 0.0 ... 0 1 42085.58]\n",
      " [0.0 1.0 0.0 ... 1 0 92888.52]\n",
      " [1.0 0.0 0.0 ... 1 0 38190.78]]\n"
     ]
    }
   ],
   "source": [
    "print(X)"
   ]
  },
  {
   "cell_type": "code",
   "execution_count": 38,
   "metadata": {},
   "outputs": [],
   "source": [
    "from sklearn.model_selection import train_test_split\n",
    "X_train, X_test, y_train, y_test = train_test_split(X,y, test_size = 0.2, random_state = 0)"
   ]
  },
  {
   "cell_type": "code",
   "execution_count": 39,
   "metadata": {},
   "outputs": [
    {
     "data": {
      "text/plain": [
       "96000"
      ]
     },
     "execution_count": 39,
     "metadata": {},
     "output_type": "execute_result"
    }
   ],
   "source": [
    "X_train.size"
   ]
  },
  {
   "cell_type": "code",
   "execution_count": 40,
   "metadata": {},
   "outputs": [],
   "source": [
    "#Feature Scaling ----> Absolutely fundamental in Deep Learning\n",
    "from sklearn.preprocessing import StandardScaler\n",
    "sc = StandardScaler()\n",
    "X_train =  sc.fit_transform(X_train)\n",
    "X_test  = sc.fit_transform(X_test)"
   ]
  },
  {
   "cell_type": "code",
   "execution_count": 41,
   "metadata": {},
   "outputs": [
    {
     "name": "stdout",
     "output_type": "stream",
     "text": [
      "[[-1.01460667 -0.5698444   1.74309049 ...  0.64259497 -1.03227043\n",
      "   1.10643166]\n",
      " [-1.01460667  1.75486502 -0.57369368 ...  0.64259497  0.9687384\n",
      "  -0.74866447]\n",
      " [ 0.98560362 -0.5698444  -0.57369368 ...  0.64259497 -1.03227043\n",
      "   1.48533467]\n",
      " ...\n",
      " [ 0.98560362 -0.5698444  -0.57369368 ...  0.64259497 -1.03227043\n",
      "   1.41231994]\n",
      " [-1.01460667 -0.5698444   1.74309049 ...  0.64259497  0.9687384\n",
      "   0.84432121]\n",
      " [-1.01460667  1.75486502 -0.57369368 ...  0.64259497 -1.03227043\n",
      "   0.32472465]]\n"
     ]
    }
   ],
   "source": [
    "print(X_train)"
   ]
  },
  {
   "cell_type": "code",
   "execution_count": 42,
   "metadata": {},
   "outputs": [],
   "source": [
    "ann = tf.keras.models.Sequential() # Start of Sequence of Layers "
   ]
  },
  {
   "cell_type": "code",
   "execution_count": 43,
   "metadata": {},
   "outputs": [],
   "source": [
    "ann.add(tf.keras.layers.Dense(units=6, activation= 'relu')) # A hidden layer with 6 neurons and activation function as ReLu\n",
    "\n",
    "# Input layer will be the feature, above one is the layer after the input layer"
   ]
  },
  {
   "cell_type": "code",
   "execution_count": 44,
   "metadata": {},
   "outputs": [],
   "source": [
    "# Second Hidden Layer\n",
    "ann.add(tf.keras.layers.Dense(units=6, activation= 'relu'))"
   ]
  },
  {
   "cell_type": "code",
   "execution_count": 45,
   "metadata": {},
   "outputs": [],
   "source": [
    "# Output Layer \n",
    "ann.add(tf.keras.layers.Dense(units=1, activation= 'sigmoid'))"
   ]
  },
  {
   "cell_type": "code",
   "execution_count": 46,
   "metadata": {},
   "outputs": [],
   "source": [
    "# Compiling the ANN\n",
    "\n",
    "ann.compile(optimizer='adam',loss='binary_crossentropy',metrics=['accuracy'] ) # Optimizer perform the stochastic Gradient Descent\n",
    "#binary_crossentropy because I am doing binary classification, we'd have used categorical_crossentropy if there were more category and the activation could be 'softmax'\n",
    "#matrics - on which ground you would evaluate your neural network"
   ]
  },
  {
   "cell_type": "code",
   "execution_count": 47,
   "metadata": {},
   "outputs": [
    {
     "name": "stderr",
     "output_type": "stream",
     "text": [
      "W1108 13:17:15.187597 54860 ag_logging.py:146] AutoGraph could not transform <function Model.make_train_function.<locals>.train_function at 0x00000150CAADC840> and will run it as-is.\n",
      "Please report this to the TensorFlow team. When filing the bug, set the verbosity to 10 (on Linux, `export AUTOGRAPH_VERBOSITY=10`) and attach the full output.\n",
      "Cause: 'arguments' object has no attribute 'posonlyargs'\n",
      "To silence this warning, decorate the function with @tf.autograph.experimental.do_not_convert\n"
     ]
    },
    {
     "name": "stdout",
     "output_type": "stream",
     "text": [
      "Epoch 1/100\n",
      "WARNING: AutoGraph could not transform <function Model.make_train_function.<locals>.train_function at 0x00000150CAADC840> and will run it as-is.\n",
      "Please report this to the TensorFlow team. When filing the bug, set the verbosity to 10 (on Linux, `export AUTOGRAPH_VERBOSITY=10`) and attach the full output.\n",
      "Cause: 'arguments' object has no attribute 'posonlyargs'\n",
      "To silence this warning, decorate the function with @tf.autograph.experimental.do_not_convert\n",
      "250/250 [==============================] - 0s 668us/step - loss: 0.6296 - accuracy: 0.6787\n",
      "Epoch 2/100\n",
      "250/250 [==============================] - 0s 648us/step - loss: 0.4776 - accuracy: 0.7964\n",
      "Epoch 3/100\n",
      "250/250 [==============================] - 0s 644us/step - loss: 0.4431 - accuracy: 0.8026\n",
      "Epoch 4/100\n",
      "250/250 [==============================] - 0s 736us/step - loss: 0.4324 - accuracy: 0.8081\n",
      "Epoch 5/100\n",
      "250/250 [==============================] - 0s 712us/step - loss: 0.4278 - accuracy: 0.81040s - loss: 0.4306 - accuracy: \n",
      "Epoch 6/100\n",
      "250/250 [==============================] - 0s 680us/step - loss: 0.4248 - accuracy: 0.8124\n",
      "Epoch 7/100\n",
      "250/250 [==============================] - 0s 652us/step - loss: 0.4222 - accuracy: 0.8125\n",
      "Epoch 8/100\n",
      "250/250 [==============================] - 0s 660us/step - loss: 0.4199 - accuracy: 0.8124\n",
      "Epoch 9/100\n",
      "250/250 [==============================] - 0s 644us/step - loss: 0.4169 - accuracy: 0.8135\n",
      "Epoch 10/100\n",
      "250/250 [==============================] - 0s 604us/step - loss: 0.4131 - accuracy: 0.8163\n",
      "Epoch 11/100\n",
      "250/250 [==============================] - 0s 592us/step - loss: 0.4069 - accuracy: 0.8204\n",
      "Epoch 12/100\n",
      "250/250 [==============================] - 0s 616us/step - loss: 0.3980 - accuracy: 0.8265\n",
      "Epoch 13/100\n",
      "250/250 [==============================] - 0s 584us/step - loss: 0.3873 - accuracy: 0.8328\n",
      "Epoch 14/100\n",
      "250/250 [==============================] - 0s 592us/step - loss: 0.3764 - accuracy: 0.8390\n",
      "Epoch 15/100\n",
      "250/250 [==============================] - 0s 596us/step - loss: 0.3680 - accuracy: 0.8438\n",
      "Epoch 16/100\n",
      "250/250 [==============================] - 0s 560us/step - loss: 0.3619 - accuracy: 0.8485\n",
      "Epoch 17/100\n",
      "250/250 [==============================] - 0s 592us/step - loss: 0.3584 - accuracy: 0.8485\n",
      "Epoch 18/100\n",
      "250/250 [==============================] - 0s 592us/step - loss: 0.3564 - accuracy: 0.8505\n",
      "Epoch 19/100\n",
      "250/250 [==============================] - 0s 592us/step - loss: 0.3548 - accuracy: 0.8512\n",
      "Epoch 20/100\n",
      "250/250 [==============================] - 0s 672us/step - loss: 0.3536 - accuracy: 0.8514\n",
      "Epoch 21/100\n",
      "250/250 [==============================] - 0s 596us/step - loss: 0.3530 - accuracy: 0.8514\n",
      "Epoch 22/100\n",
      "250/250 [==============================] - 0s 580us/step - loss: 0.3519 - accuracy: 0.8518\n",
      "Epoch 23/100\n",
      "250/250 [==============================] - 0s 588us/step - loss: 0.3511 - accuracy: 0.8540\n",
      "Epoch 24/100\n",
      "250/250 [==============================] - 0s 568us/step - loss: 0.3497 - accuracy: 0.8556\n",
      "Epoch 25/100\n",
      "250/250 [==============================] - 0s 584us/step - loss: 0.3498 - accuracy: 0.8526\n",
      "Epoch 26/100\n",
      "250/250 [==============================] - 0s 588us/step - loss: 0.3490 - accuracy: 0.8537\n",
      "Epoch 27/100\n",
      "250/250 [==============================] - 0s 604us/step - loss: 0.3486 - accuracy: 0.8535\n",
      "Epoch 28/100\n",
      "250/250 [==============================] - 0s 572us/step - loss: 0.3480 - accuracy: 0.8554\n",
      "Epoch 29/100\n",
      "250/250 [==============================] - 0s 644us/step - loss: 0.3475 - accuracy: 0.8534\n",
      "Epoch 30/100\n",
      "250/250 [==============================] - 0s 620us/step - loss: 0.3473 - accuracy: 0.8558\n",
      "Epoch 31/100\n",
      "250/250 [==============================] - 0s 608us/step - loss: 0.3468 - accuracy: 0.8559\n",
      "Epoch 32/100\n",
      "250/250 [==============================] - 0s 600us/step - loss: 0.3466 - accuracy: 0.8556\n",
      "Epoch 33/100\n",
      "250/250 [==============================] - 0s 600us/step - loss: 0.3460 - accuracy: 0.8561\n",
      "Epoch 34/100\n",
      "250/250 [==============================] - 0s 616us/step - loss: 0.3453 - accuracy: 0.8570\n",
      "Epoch 35/100\n",
      "250/250 [==============================] - 0s 664us/step - loss: 0.3450 - accuracy: 0.8565\n",
      "Epoch 36/100\n",
      "250/250 [==============================] - 0s 596us/step - loss: 0.3451 - accuracy: 0.8561\n",
      "Epoch 37/100\n",
      "250/250 [==============================] - 0s 556us/step - loss: 0.3445 - accuracy: 0.8564\n",
      "Epoch 38/100\n",
      "250/250 [==============================] - 0s 588us/step - loss: 0.3444 - accuracy: 0.8577\n",
      "Epoch 39/100\n",
      "250/250 [==============================] - 0s 612us/step - loss: 0.3439 - accuracy: 0.8580\n",
      "Epoch 40/100\n",
      "250/250 [==============================] - 0s 568us/step - loss: 0.3437 - accuracy: 0.8568\n",
      "Epoch 41/100\n",
      "250/250 [==============================] - 0s 628us/step - loss: 0.3435 - accuracy: 0.8560\n",
      "Epoch 42/100\n",
      "250/250 [==============================] - 0s 572us/step - loss: 0.3436 - accuracy: 0.8580\n",
      "Epoch 43/100\n",
      "250/250 [==============================] - 0s 580us/step - loss: 0.3430 - accuracy: 0.8589\n",
      "Epoch 44/100\n",
      "250/250 [==============================] - 0s 656us/step - loss: 0.3429 - accuracy: 0.8572\n",
      "Epoch 45/100\n",
      "250/250 [==============================] - 0s 640us/step - loss: 0.3429 - accuracy: 0.8579\n",
      "Epoch 46/100\n",
      "250/250 [==============================] - 0s 612us/step - loss: 0.3429 - accuracy: 0.8574\n",
      "Epoch 47/100\n",
      "250/250 [==============================] - 0s 624us/step - loss: 0.3426 - accuracy: 0.8576\n",
      "Epoch 48/100\n",
      "250/250 [==============================] - 0s 672us/step - loss: 0.3422 - accuracy: 0.8576\n",
      "Epoch 49/100\n",
      "250/250 [==============================] - 0s 616us/step - loss: 0.3417 - accuracy: 0.8579\n",
      "Epoch 50/100\n",
      "250/250 [==============================] - 0s 580us/step - loss: 0.3416 - accuracy: 0.8583\n",
      "Epoch 51/100\n",
      "250/250 [==============================] - 0s 608us/step - loss: 0.3417 - accuracy: 0.8581\n",
      "Epoch 52/100\n",
      "250/250 [==============================] - 0s 600us/step - loss: 0.3415 - accuracy: 0.8584\n",
      "Epoch 53/100\n",
      "250/250 [==============================] - 0s 564us/step - loss: 0.3413 - accuracy: 0.8589\n",
      "Epoch 54/100\n",
      "250/250 [==============================] - 0s 616us/step - loss: 0.3410 - accuracy: 0.8604\n",
      "Epoch 55/100\n",
      "250/250 [==============================] - 0s 548us/step - loss: 0.3410 - accuracy: 0.8591\n",
      "Epoch 56/100\n",
      "250/250 [==============================] - 0s 580us/step - loss: 0.3406 - accuracy: 0.8576\n",
      "Epoch 57/100\n",
      "250/250 [==============================] - 0s 612us/step - loss: 0.3409 - accuracy: 0.8589\n",
      "Epoch 58/100\n",
      "250/250 [==============================] - 0s 636us/step - loss: 0.3403 - accuracy: 0.8602\n",
      "Epoch 59/100\n",
      "250/250 [==============================] - 0s 608us/step - loss: 0.3402 - accuracy: 0.8595\n",
      "Epoch 60/100\n",
      "250/250 [==============================] - 0s 596us/step - loss: 0.3403 - accuracy: 0.8584\n",
      "Epoch 61/100\n",
      "250/250 [==============================] - 0s 612us/step - loss: 0.3404 - accuracy: 0.8610\n",
      "Epoch 62/100\n",
      "250/250 [==============================] - 0s 588us/step - loss: 0.3399 - accuracy: 0.8604\n",
      "Epoch 63/100\n",
      "250/250 [==============================] - 0s 600us/step - loss: 0.3400 - accuracy: 0.8599\n",
      "Epoch 64/100\n",
      "250/250 [==============================] - 0s 604us/step - loss: 0.3394 - accuracy: 0.8596\n",
      "Epoch 65/100\n",
      "250/250 [==============================] - 0s 616us/step - loss: 0.3393 - accuracy: 0.8605\n",
      "Epoch 66/100\n",
      "250/250 [==============================] - 0s 588us/step - loss: 0.3395 - accuracy: 0.8601\n",
      "Epoch 67/100\n",
      "250/250 [==============================] - 0s 608us/step - loss: 0.3393 - accuracy: 0.8600\n",
      "Epoch 68/100\n",
      "250/250 [==============================] - 0s 652us/step - loss: 0.3393 - accuracy: 0.8580\n",
      "Epoch 69/100\n",
      "250/250 [==============================] - 0s 736us/step - loss: 0.3389 - accuracy: 0.8597\n",
      "Epoch 70/100\n",
      "250/250 [==============================] - 0s 624us/step - loss: 0.3389 - accuracy: 0.8616\n",
      "Epoch 71/100\n",
      "250/250 [==============================] - 0s 592us/step - loss: 0.3388 - accuracy: 0.8616\n",
      "Epoch 72/100\n",
      "250/250 [==============================] - 0s 620us/step - loss: 0.3386 - accuracy: 0.8615\n",
      "Epoch 73/100\n",
      "250/250 [==============================] - 0s 588us/step - loss: 0.3387 - accuracy: 0.8612\n",
      "Epoch 74/100\n",
      "250/250 [==============================] - 0s 568us/step - loss: 0.3384 - accuracy: 0.8608\n",
      "Epoch 75/100\n"
     ]
    },
    {
     "name": "stdout",
     "output_type": "stream",
     "text": [
      "250/250 [==============================] - 0s 600us/step - loss: 0.3384 - accuracy: 0.8608\n",
      "Epoch 76/100\n",
      "250/250 [==============================] - 0s 556us/step - loss: 0.3384 - accuracy: 0.8616\n",
      "Epoch 77/100\n",
      "250/250 [==============================] - 0s 640us/step - loss: 0.3383 - accuracy: 0.8587\n",
      "Epoch 78/100\n",
      "250/250 [==============================] - 0s 612us/step - loss: 0.3380 - accuracy: 0.8596\n",
      "Epoch 79/100\n",
      "250/250 [==============================] - 0s 692us/step - loss: 0.3380 - accuracy: 0.8610\n",
      "Epoch 80/100\n",
      "250/250 [==============================] - 0s 700us/step - loss: 0.3378 - accuracy: 0.8611\n",
      "Epoch 81/100\n",
      "250/250 [==============================] - 0s 620us/step - loss: 0.3379 - accuracy: 0.8616\n",
      "Epoch 82/100\n",
      "250/250 [==============================] - 0s 644us/step - loss: 0.3378 - accuracy: 0.8611\n",
      "Epoch 83/100\n",
      "250/250 [==============================] - 0s 568us/step - loss: 0.3373 - accuracy: 0.8605\n",
      "Epoch 84/100\n",
      "250/250 [==============================] - 0s 576us/step - loss: 0.3375 - accuracy: 0.8608\n",
      "Epoch 85/100\n",
      "250/250 [==============================] - 0s 580us/step - loss: 0.3370 - accuracy: 0.8615\n",
      "Epoch 86/100\n",
      "250/250 [==============================] - 0s 596us/step - loss: 0.3375 - accuracy: 0.8606\n",
      "Epoch 87/100\n",
      "250/250 [==============================] - 0s 584us/step - loss: 0.3370 - accuracy: 0.8601\n",
      "Epoch 88/100\n",
      "250/250 [==============================] - 0s 588us/step - loss: 0.3375 - accuracy: 0.8596\n",
      "Epoch 89/100\n",
      "250/250 [==============================] - 0s 592us/step - loss: 0.3373 - accuracy: 0.8608\n",
      "Epoch 90/100\n",
      "250/250 [==============================] - 0s 680us/step - loss: 0.3369 - accuracy: 0.8608\n",
      "Epoch 91/100\n",
      "250/250 [==============================] - 0s 612us/step - loss: 0.3369 - accuracy: 0.8604\n",
      "Epoch 92/100\n",
      "250/250 [==============================] - 0s 656us/step - loss: 0.3367 - accuracy: 0.8596\n",
      "Epoch 93/100\n",
      "250/250 [==============================] - 0s 684us/step - loss: 0.3370 - accuracy: 0.8612\n",
      "Epoch 94/100\n",
      "250/250 [==============================] - 0s 580us/step - loss: 0.3368 - accuracy: 0.8596\n",
      "Epoch 95/100\n",
      "250/250 [==============================] - 0s 1ms/step - loss: 0.3363 - accuracy: 0.8604\n",
      "Epoch 96/100\n",
      "250/250 [==============================] - 0s 1ms/step - loss: 0.3366 - accuracy: 0.8605\n",
      "Epoch 97/100\n",
      "250/250 [==============================] - 0s 1ms/step - loss: 0.3364 - accuracy: 0.8614\n",
      "Epoch 98/100\n",
      "250/250 [==============================] - 0s 788us/step - loss: 0.3364 - accuracy: 0.8616\n",
      "Epoch 99/100\n",
      "250/250 [==============================] - 0s 680us/step - loss: 0.3366 - accuracy: 0.8611\n",
      "Epoch 100/100\n",
      "250/250 [==============================] - 0s 656us/step - loss: 0.3359 - accuracy: 0.8614\n"
     ]
    },
    {
     "data": {
      "text/plain": [
       "<tensorflow.python.keras.callbacks.History at 0x150caac9f60>"
      ]
     },
     "execution_count": 47,
     "metadata": {},
     "output_type": "execute_result"
    }
   ],
   "source": [
    "#Training the ANN\n",
    "ann.fit(X_train, y_train, batch_size=32,epochs=100)"
   ]
  },
  {
   "cell_type": "code",
   "execution_count": 48,
   "metadata": {},
   "outputs": [
    {
     "name": "stderr",
     "output_type": "stream",
     "text": [
      "W1108 13:17:31.619596 54860 ag_logging.py:146] AutoGraph could not transform <function Model.make_predict_function.<locals>.predict_function at 0x00000150CCBF68C8> and will run it as-is.\n",
      "Please report this to the TensorFlow team. When filing the bug, set the verbosity to 10 (on Linux, `export AUTOGRAPH_VERBOSITY=10`) and attach the full output.\n",
      "Cause: 'arguments' object has no attribute 'posonlyargs'\n",
      "To silence this warning, decorate the function with @tf.autograph.experimental.do_not_convert\n"
     ]
    },
    {
     "name": "stdout",
     "output_type": "stream",
     "text": [
      "WARNING: AutoGraph could not transform <function Model.make_predict_function.<locals>.predict_function at 0x00000150CCBF68C8> and will run it as-is.\n",
      "Please report this to the TensorFlow team. When filing the bug, set the verbosity to 10 (on Linux, `export AUTOGRAPH_VERBOSITY=10`) and attach the full output.\n",
      "Cause: 'arguments' object has no attribute 'posonlyargs'\n",
      "To silence this warning, decorate the function with @tf.autograph.experimental.do_not_convert\n",
      "[[False]]\n"
     ]
    }
   ],
   "source": [
    "print(ann.predict(sc.transform([[1,0,0,600,1,40,3,60000,2,1,1,50000]])) > 0.5) # Any input of the predict method must to an 2d array"
   ]
  },
  {
   "cell_type": "code",
   "execution_count": 49,
   "metadata": {},
   "outputs": [],
   "source": [
    "y_pred = ann.predict(X_test)\n",
    "y_pred = (y_pred > 0.5)"
   ]
  },
  {
   "cell_type": "code",
   "execution_count": 50,
   "metadata": {},
   "outputs": [
    {
     "name": "stdout",
     "output_type": "stream",
     "text": [
      "[[0 0]\n",
      " [0 1]\n",
      " [0 0]\n",
      " ...\n",
      " [0 0]\n",
      " [0 0]\n",
      " [0 0]]\n"
     ]
    }
   ],
   "source": [
    "print(np.concatenate((y_pred.reshape(len(y_pred),1),y_test.reshape(len(y_test),1)),1))"
   ]
  },
  {
   "cell_type": "code",
   "execution_count": 51,
   "metadata": {},
   "outputs": [
    {
     "name": "stdout",
     "output_type": "stream",
     "text": [
      "[[1523   72]\n",
      " [ 197  208]]\n"
     ]
    },
    {
     "data": {
      "text/plain": [
       "0.8655"
      ]
     },
     "execution_count": 51,
     "metadata": {},
     "output_type": "execute_result"
    }
   ],
   "source": [
    "from sklearn.metrics import confusion_matrix, accuracy_score\n",
    "cm = confusion_matrix(y_test,y_pred)\n",
    "print(cm)\n",
    "accuracy_score(y_test,y_pred)"
   ]
  },
  {
   "cell_type": "code",
   "execution_count": null,
   "metadata": {},
   "outputs": [],
   "source": []
  }
 ],
 "metadata": {
  "kernelspec": {
   "display_name": "Python 3",
   "language": "python",
   "name": "python3"
  },
  "language_info": {
   "codemirror_mode": {
    "name": "ipython",
    "version": 3
   },
   "file_extension": ".py",
   "mimetype": "text/x-python",
   "name": "python",
   "nbconvert_exporter": "python",
   "pygments_lexer": "ipython3",
   "version": "3.7.0"
  }
 },
 "nbformat": 4,
 "nbformat_minor": 2
}
